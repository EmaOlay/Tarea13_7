{
 "cells": [
  {
   "cell_type": "markdown",
   "metadata": {},
   "source": [
    "<img src=\"./logo_UTN.svg\" align=\"right\" width=\"150\" /> \n",
    "#### Teoría de Circuitos II\n",
    "\n",
    "# Problema de clase 13/7"
   ]
  },
  {
   "cell_type": "markdown",
   "metadata": {},
   "source": [
    "<img src=\"./consigna.jpeg\" align=\"center\" width=\"80%\" />\n",
    "Donde dice R deberia decir G me di cuenta despues y fiaca..."
   ]
  },
  {
   "cell_type": "code",
   "execution_count": 60,
   "metadata": {},
   "outputs": [
    {
     "data": {
      "text/latex": [
       "$\\displaystyle \\left[\\begin{matrix}G + Ya & 0 & - Ya & - G\\\\0 & G + Yb & - G & - Yb\\\\- Ya & - G & 2 G + Ya & - G\\\\- G & - Yb & - G & 2 G + Yb\\end{matrix}\\right]$"
      ],
      "text/plain": [
       "Matrix([\n",
       "[G + Ya,      0,      -Ya,       -G],\n",
       "[     0, G + Yb,       -G,      -Yb],\n",
       "[   -Ya,     -G, 2*G + Ya,       -G],\n",
       "[    -G,    -Yb,       -G, 2*G + Yb]])"
      ]
     },
     "execution_count": 60,
     "metadata": {},
     "output_type": "execute_result"
    }
   ],
   "source": [
    "from sympy import *\n",
    "import math as m\n",
    "import sys\n",
    "\n",
    "Ya, Yb, G=symbols('Ya Yb G')\n",
    "M=Matrix(([Ya+G,0,-Ya,-G],\n",
    "        [0,Yb+G,-G,-Yb],\n",
    "        [-Ya,-G,Ya+2*G,-G],\n",
    "        [-G,-Yb,-G,Yb+2*G]))\n",
    "M"
   ]
  },
  {
   "cell_type": "markdown",
   "metadata": {},
   "source": [
    "<img src=\"./formula.PNG\" align=\"center\" width=\"80%\" />"
   ]
  },
  {
   "cell_type": "code",
   "execution_count": 50,
   "metadata": {},
   "outputs": [
    {
     "name": "stdout",
     "output_type": "stream",
     "text": [
      "muestro la matriz a la cual le haria el determinante\n"
     ]
    },
    {
     "data": {
      "text/latex": [
       "$\\displaystyle \\left[\\begin{matrix}G + Ya & 0 & - G\\\\0 & G + Yb & - Yb\\\\- G & - Yb & 2 G + Yb\\end{matrix}\\right]$"
      ],
      "text/plain": [
       "Matrix([\n",
       "[G + Ya,      0,       -G],\n",
       "[     0, G + Yb,      -Yb],\n",
       "[    -G,    -Yb, 2*G + Yb]])"
      ]
     },
     "execution_count": 50,
     "metadata": {},
     "output_type": "execute_result"
    }
   ],
   "source": [
    "matriz_usada=M.minor_submatrix(2,2)\n",
    "print(\"muestro la matriz a la cual le haria el determinante\")\n",
    "matriz_usada"
   ]
  },
  {
   "cell_type": "code",
   "execution_count": 48,
   "metadata": {},
   "outputs": [
    {
     "data": {
      "text/latex": [
       "$\\displaystyle - G^{2} \\left(G + Yb\\right) - Yb^{2} \\left(G + Ya\\right) + \\left(G + Ya\\right) \\left(G + Yb\\right) \\left(2 G + Yb\\right)$"
      ],
      "text/plain": [
       "-G**2*(G + Yb) - Yb**2*(G + Ya) + (G + Ya)*(G + Yb)*(2*G + Yb)"
      ]
     },
     "execution_count": 48,
     "metadata": {},
     "output_type": "execute_result"
    }
   ],
   "source": [
    "Y33=M.cofactor(2,2)\n",
    "Y33"
   ]
  },
  {
   "cell_type": "code",
   "execution_count": 57,
   "metadata": {},
   "outputs": [
    {
     "data": {
      "text/latex": [
       "$\\displaystyle G \\left(G^{2} + 2 G Ya + 2 G Yb + 3 Ya Yb\\right)$"
      ],
      "text/plain": [
       "G*(G**2 + 2*G*Ya + 2*G*Yb + 3*Ya*Yb)"
      ]
     },
     "execution_count": 57,
     "metadata": {},
     "output_type": "execute_result"
    }
   ],
   "source": [
    "Y33_simple=simplify(Y33)\n",
    "Y33_simple"
   ]
  },
  {
   "cell_type": "code",
   "execution_count": 43,
   "metadata": {},
   "outputs": [
    {
     "name": "stdout",
     "output_type": "stream",
     "text": [
      "tache la columna 1 y la fila 1\n"
     ]
    },
    {
     "data": {
      "text/latex": [
       "$\\displaystyle \\left[\\begin{matrix}G + Yb & - G & - Yb\\\\- G & 2 G + Ya & - G\\\\- Yb & - G & 2 G + Yb\\end{matrix}\\right]$"
      ],
      "text/plain": [
       "Matrix([\n",
       "[G + Yb,       -G,      -Yb],\n",
       "[    -G, 2*G + Ya,       -G],\n",
       "[   -Yb,       -G, 2*G + Yb]])"
      ]
     },
     "execution_count": 43,
     "metadata": {},
     "output_type": "execute_result"
    }
   ],
   "source": [
    "Y11=M.minor_submatrix(0,0)\n",
    "print(\"tache la columna 1 y la fila 1\")\n",
    "Y11"
   ]
  },
  {
   "cell_type": "code",
   "execution_count": 51,
   "metadata": {},
   "outputs": [
    {
     "name": "stdout",
     "output_type": "stream",
     "text": [
      "Tache la fila 2 y la columna 2\n"
     ]
    },
    {
     "data": {
      "text/latex": [
       "$\\displaystyle \\left[\\begin{matrix}2 G + Ya & - G\\\\- G & 2 G + Yb\\end{matrix}\\right]$"
      ],
      "text/plain": [
       "Matrix([\n",
       "[2*G + Ya,       -G],\n",
       "[      -G, 2*G + Yb]])"
      ]
     },
     "execution_count": 51,
     "metadata": {},
     "output_type": "execute_result"
    }
   ],
   "source": [
    "Y1212=Y11.minor_submatrix(0,0)\n",
    "print(\"Tache la fila 2 y la columna 2\")\n",
    "Y1212"
   ]
  },
  {
   "cell_type": "code",
   "execution_count": 54,
   "metadata": {},
   "outputs": [
    {
     "name": "stdout",
     "output_type": "stream",
     "text": [
      "Hago el det de Y1212\n"
     ]
    },
    {
     "data": {
      "text/latex": [
       "$\\displaystyle - G^{2} + \\left(2 G + Ya\\right) \\left(2 G + Yb\\right)$"
      ],
      "text/plain": [
       "-G**2 + (2*G + Ya)*(2*G + Yb)"
      ]
     },
     "execution_count": 54,
     "metadata": {},
     "output_type": "execute_result"
    }
   ],
   "source": [
    "print(\"Hago el det de Y1212\")\n",
    "deter_Y1212=Y1212.det()\n",
    "deter_Y1212"
   ]
  },
  {
   "cell_type": "code",
   "execution_count": 68,
   "metadata": {},
   "outputs": [
    {
     "name": "stdout",
     "output_type": "stream",
     "text": [
      "Imprimo Zin:\n"
     ]
    },
    {
     "data": {
      "text/latex": [
       "$\\displaystyle \\frac{- G^{2} + \\left(2 G + Ya\\right) \\left(2 G + Yb\\right)}{G \\left(G^{2} + 2 G Ya + 2 G Yb + 3 Ya Yb\\right)}$"
      ],
      "text/plain": [
       "(-G**2 + (2*G + Ya)*(2*G + Yb))/(G*(G**2 + 2*G*Ya + 2*G*Yb + 3*Ya*Yb))"
      ]
     },
     "execution_count": 68,
     "metadata": {},
     "output_type": "execute_result"
    }
   ],
   "source": [
    "Zin_eq=deter_Y1212/Y33_simple\n",
    "Zin_simple=simplify(Zin_eq)\n",
    "print(\"Imprimo Zin:\")\n",
    "Zin_simple"
   ]
  },
  {
   "cell_type": "markdown",
   "metadata": {},
   "source": [
    "Busco Y1234 y lo divido por Y3434"
   ]
  },
  {
   "cell_type": "code",
   "execution_count": 69,
   "metadata": {},
   "outputs": [
    {
     "name": "stdout",
     "output_type": "stream",
     "text": [
      "tache la columna 1 y la fila 3\n"
     ]
    },
    {
     "data": {
      "text/latex": [
       "$\\displaystyle \\left[\\begin{matrix}0 & G + Yb & - Yb\\\\- Ya & - G & - G\\\\- G & - Yb & 2 G + Yb\\end{matrix}\\right]$"
      ],
      "text/plain": [
       "Matrix([\n",
       "[  0, G + Yb,      -Yb],\n",
       "[-Ya,     -G,       -G],\n",
       "[ -G,    -Yb, 2*G + Yb]])"
      ]
     },
     "execution_count": 69,
     "metadata": {},
     "output_type": "execute_result"
    }
   ],
   "source": [
    "Y13=M.minor_submatrix(0,2)\n",
    "print(\"tache la columna 1 y la fila 3\")\n",
    "Y13"
   ]
  },
  {
   "cell_type": "code",
   "execution_count": 71,
   "metadata": {},
   "outputs": [
    {
     "name": "stdout",
     "output_type": "stream",
     "text": [
      "Muestro Y1234\n"
     ]
    },
    {
     "data": {
      "text/latex": [
       "$\\displaystyle \\left[\\begin{matrix}- Ya & - G\\\\- G & - Yb\\end{matrix}\\right]$"
      ],
      "text/plain": [
       "Matrix([\n",
       "[-Ya,  -G],\n",
       "[ -G, -Yb]])"
      ]
     },
     "execution_count": 71,
     "metadata": {},
     "output_type": "execute_result"
    }
   ],
   "source": [
    "Y1234=Y13.minor_submatrix(0,2)\n",
    "print(\"Muestro Y1234\")\n",
    "Y1234"
   ]
  },
  {
   "cell_type": "code",
   "execution_count": 74,
   "metadata": {},
   "outputs": [
    {
     "name": "stdout",
     "output_type": "stream",
     "text": [
      "Busco Y3434\n",
      "Empiezo tachando columna 3 y fila 3, que me da la Y33 de antes\n"
     ]
    },
    {
     "data": {
      "text/latex": [
       "$\\displaystyle \\left[\\begin{matrix}G + Ya & 0 & - G\\\\0 & G + Yb & - Yb\\\\- G & - Yb & 2 G + Yb\\end{matrix}\\right]$"
      ],
      "text/plain": [
       "Matrix([\n",
       "[G + Ya,      0,       -G],\n",
       "[     0, G + Yb,      -Yb],\n",
       "[    -G,    -Yb, 2*G + Yb]])"
      ]
     },
     "execution_count": 74,
     "metadata": {},
     "output_type": "execute_result"
    }
   ],
   "source": [
    "print(\"Busco Y3434\\nEmpiezo tachando columna 3 y fila 3, que me da la Y33 de antes\")\n",
    "matriz_usada"
   ]
  },
  {
   "cell_type": "code",
   "execution_count": 75,
   "metadata": {},
   "outputs": [
    {
     "name": "stdout",
     "output_type": "stream",
     "text": [
      "Tacho columna 4 y fila 4\n"
     ]
    },
    {
     "data": {
      "text/latex": [
       "$\\displaystyle \\left[\\begin{matrix}G + Ya & 0\\\\0 & G + Yb\\end{matrix}\\right]$"
      ],
      "text/plain": [
       "Matrix([\n",
       "[G + Ya,      0],\n",
       "[     0, G + Yb]])"
      ]
     },
     "execution_count": 75,
     "metadata": {},
     "output_type": "execute_result"
    }
   ],
   "source": [
    "print(\"Tacho columna 4 y fila 4\")\n",
    "Y3434=matriz_usada.minor_submatrix(2,2)\n",
    "Y3434"
   ]
  },
  {
   "cell_type": "code",
   "execution_count": 76,
   "metadata": {},
   "outputs": [
    {
     "name": "stdout",
     "output_type": "stream",
     "text": [
      "Hago determinantes y simplifico\n",
      "Hago el det de Y1234\n"
     ]
    },
    {
     "data": {
      "text/latex": [
       "$\\displaystyle - G^{2} + Ya Yb$"
      ],
      "text/plain": [
       "-G**2 + Ya*Yb"
      ]
     },
     "execution_count": 76,
     "metadata": {},
     "output_type": "execute_result"
    }
   ],
   "source": [
    "print(\"Hago determinantes y simplifico\")\n",
    "print(\"Hago el det de Y1234\")\n",
    "deter_Y1234=Y1234.det()\n",
    "deter_Y1234"
   ]
  },
  {
   "cell_type": "code",
   "execution_count": 77,
   "metadata": {},
   "outputs": [
    {
     "name": "stdout",
     "output_type": "stream",
     "text": [
      "Hago el det de Y3434\n"
     ]
    },
    {
     "data": {
      "text/latex": [
       "$\\displaystyle \\left(G + Ya\\right) \\left(G + Yb\\right)$"
      ],
      "text/plain": [
       "(G + Ya)*(G + Yb)"
      ]
     },
     "execution_count": 77,
     "metadata": {},
     "output_type": "execute_result"
    }
   ],
   "source": [
    "print(\"Hago el det de Y3434\")\n",
    "deter_Y3434=Y3434.det()\n",
    "deter_Y3434"
   ]
  },
  {
   "cell_type": "code",
   "execution_count": 79,
   "metadata": {},
   "outputs": [
    {
     "data": {
      "text/latex": [
       "$\\displaystyle \\frac{- G^{2} + Ya Yb}{\\left(G + Ya\\right) \\left(G + Yb\\right)}$"
      ],
      "text/plain": [
       "(-G**2 + Ya*Yb)/((G + Ya)*(G + Yb))"
      ]
     },
     "execution_count": 79,
     "metadata": {},
     "output_type": "execute_result"
    }
   ],
   "source": [
    "Transfer_eq=simplify(deter_Y1234/deter_Y3434)\n",
    "Transfer_eq"
   ]
  },
  {
   "cell_type": "code",
   "execution_count": null,
   "metadata": {},
   "outputs": [],
   "source": []
  }
 ],
 "metadata": {
  "kernelspec": {
   "display_name": "Python 3",
   "language": "python",
   "name": "python3"
  },
  "language_info": {
   "codemirror_mode": {
    "name": "ipython",
    "version": 3
   },
   "file_extension": ".py",
   "mimetype": "text/x-python",
   "name": "python",
   "nbconvert_exporter": "python",
   "pygments_lexer": "ipython3",
   "version": "3.7.6"
  }
 },
 "nbformat": 4,
 "nbformat_minor": 4
}
